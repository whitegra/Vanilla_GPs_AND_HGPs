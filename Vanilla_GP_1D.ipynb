{
  "nbformat": 4,
  "nbformat_minor": 0,
  "metadata": {
    "colab": {
      "provenance": []
    },
    "kernelspec": {
      "name": "python3",
      "display_name": "Python 3"
    },
    "language_info": {
      "name": "python"
    }
  },
  "cells": [
    {
      "cell_type": "code",
      "execution_count": 1,
      "metadata": {
        "colab": {
          "base_uri": "https://localhost:8080/"
        },
        "id": "Byzlw9ZVu1jr",
        "outputId": "f0e6732c-5da8-4d3a-b69e-11ed4116c679"
      },
      "outputs": [
        {
          "output_type": "stream",
          "name": "stdout",
          "text": [
            "Requirement already satisfied: tensorflow in /usr/local/lib/python3.10/dist-packages (2.17.0)\n",
            "Requirement already satisfied: absl-py>=1.0.0 in /usr/local/lib/python3.10/dist-packages (from tensorflow) (1.4.0)\n",
            "Requirement already satisfied: astunparse>=1.6.0 in /usr/local/lib/python3.10/dist-packages (from tensorflow) (1.6.3)\n",
            "Requirement already satisfied: flatbuffers>=24.3.25 in /usr/local/lib/python3.10/dist-packages (from tensorflow) (24.3.25)\n",
            "Requirement already satisfied: gast!=0.5.0,!=0.5.1,!=0.5.2,>=0.2.1 in /usr/local/lib/python3.10/dist-packages (from tensorflow) (0.6.0)\n",
            "Requirement already satisfied: google-pasta>=0.1.1 in /usr/local/lib/python3.10/dist-packages (from tensorflow) (0.2.0)\n",
            "Requirement already satisfied: h5py>=3.10.0 in /usr/local/lib/python3.10/dist-packages (from tensorflow) (3.11.0)\n",
            "Requirement already satisfied: libclang>=13.0.0 in /usr/local/lib/python3.10/dist-packages (from tensorflow) (18.1.1)\n",
            "Requirement already satisfied: ml-dtypes<0.5.0,>=0.3.1 in /usr/local/lib/python3.10/dist-packages (from tensorflow) (0.4.0)\n",
            "Requirement already satisfied: opt-einsum>=2.3.2 in /usr/local/lib/python3.10/dist-packages (from tensorflow) (3.3.0)\n",
            "Requirement already satisfied: packaging in /usr/local/lib/python3.10/dist-packages (from tensorflow) (24.1)\n",
            "Requirement already satisfied: protobuf!=4.21.0,!=4.21.1,!=4.21.2,!=4.21.3,!=4.21.4,!=4.21.5,<5.0.0dev,>=3.20.3 in /usr/local/lib/python3.10/dist-packages (from tensorflow) (3.20.3)\n",
            "Requirement already satisfied: requests<3,>=2.21.0 in /usr/local/lib/python3.10/dist-packages (from tensorflow) (2.32.3)\n",
            "Requirement already satisfied: setuptools in /usr/local/lib/python3.10/dist-packages (from tensorflow) (71.0.4)\n",
            "Requirement already satisfied: six>=1.12.0 in /usr/local/lib/python3.10/dist-packages (from tensorflow) (1.16.0)\n",
            "Requirement already satisfied: termcolor>=1.1.0 in /usr/local/lib/python3.10/dist-packages (from tensorflow) (2.4.0)\n",
            "Requirement already satisfied: typing-extensions>=3.6.6 in /usr/local/lib/python3.10/dist-packages (from tensorflow) (4.12.2)\n",
            "Requirement already satisfied: wrapt>=1.11.0 in /usr/local/lib/python3.10/dist-packages (from tensorflow) (1.16.0)\n",
            "Requirement already satisfied: grpcio<2.0,>=1.24.3 in /usr/local/lib/python3.10/dist-packages (from tensorflow) (1.64.1)\n",
            "Requirement already satisfied: tensorboard<2.18,>=2.17 in /usr/local/lib/python3.10/dist-packages (from tensorflow) (2.17.0)\n",
            "Requirement already satisfied: keras>=3.2.0 in /usr/local/lib/python3.10/dist-packages (from tensorflow) (3.4.1)\n",
            "Requirement already satisfied: tensorflow-io-gcs-filesystem>=0.23.1 in /usr/local/lib/python3.10/dist-packages (from tensorflow) (0.37.1)\n",
            "Requirement already satisfied: numpy<2.0.0,>=1.23.5 in /usr/local/lib/python3.10/dist-packages (from tensorflow) (1.26.4)\n",
            "Requirement already satisfied: wheel<1.0,>=0.23.0 in /usr/local/lib/python3.10/dist-packages (from astunparse>=1.6.0->tensorflow) (0.44.0)\n",
            "Requirement already satisfied: rich in /usr/local/lib/python3.10/dist-packages (from keras>=3.2.0->tensorflow) (13.7.1)\n",
            "Requirement already satisfied: namex in /usr/local/lib/python3.10/dist-packages (from keras>=3.2.0->tensorflow) (0.0.8)\n",
            "Requirement already satisfied: optree in /usr/local/lib/python3.10/dist-packages (from keras>=3.2.0->tensorflow) (0.12.1)\n",
            "Requirement already satisfied: charset-normalizer<4,>=2 in /usr/local/lib/python3.10/dist-packages (from requests<3,>=2.21.0->tensorflow) (3.3.2)\n",
            "Requirement already satisfied: idna<4,>=2.5 in /usr/local/lib/python3.10/dist-packages (from requests<3,>=2.21.0->tensorflow) (3.7)\n",
            "Requirement already satisfied: urllib3<3,>=1.21.1 in /usr/local/lib/python3.10/dist-packages (from requests<3,>=2.21.0->tensorflow) (2.0.7)\n",
            "Requirement already satisfied: certifi>=2017.4.17 in /usr/local/lib/python3.10/dist-packages (from requests<3,>=2.21.0->tensorflow) (2024.7.4)\n",
            "Requirement already satisfied: markdown>=2.6.8 in /usr/local/lib/python3.10/dist-packages (from tensorboard<2.18,>=2.17->tensorflow) (3.6)\n",
            "Requirement already satisfied: tensorboard-data-server<0.8.0,>=0.7.0 in /usr/local/lib/python3.10/dist-packages (from tensorboard<2.18,>=2.17->tensorflow) (0.7.2)\n",
            "Requirement already satisfied: werkzeug>=1.0.1 in /usr/local/lib/python3.10/dist-packages (from tensorboard<2.18,>=2.17->tensorflow) (3.0.3)\n",
            "Requirement already satisfied: MarkupSafe>=2.1.1 in /usr/local/lib/python3.10/dist-packages (from werkzeug>=1.0.1->tensorboard<2.18,>=2.17->tensorflow) (2.1.5)\n",
            "Requirement already satisfied: markdown-it-py>=2.2.0 in /usr/local/lib/python3.10/dist-packages (from rich->keras>=3.2.0->tensorflow) (3.0.0)\n",
            "Requirement already satisfied: pygments<3.0.0,>=2.13.0 in /usr/local/lib/python3.10/dist-packages (from rich->keras>=3.2.0->tensorflow) (2.16.1)\n",
            "Requirement already satisfied: mdurl~=0.1 in /usr/local/lib/python3.10/dist-packages (from markdown-it-py>=2.2.0->rich->keras>=3.2.0->tensorflow) (0.1.2)\n",
            "Collecting gpflow==2.9.1\n",
            "  Downloading gpflow-2.9.1-py3-none-any.whl.metadata (13 kB)\n",
            "Collecting check-shapes>=1.0.0 (from gpflow==2.9.1)\n",
            "  Downloading check_shapes-1.1.1-py3-none-any.whl.metadata (2.4 kB)\n",
            "Collecting deprecated (from gpflow==2.9.1)\n",
            "  Downloading Deprecated-1.2.14-py2.py3-none-any.whl.metadata (5.4 kB)\n",
            "Requirement already satisfied: multipledispatch>=0.6 in /usr/local/lib/python3.10/dist-packages (from gpflow==2.9.1) (1.0.0)\n",
            "Requirement already satisfied: numpy in /usr/local/lib/python3.10/dist-packages (from gpflow==2.9.1) (1.26.4)\n",
            "Requirement already satisfied: packaging in /usr/local/lib/python3.10/dist-packages (from gpflow==2.9.1) (24.1)\n",
            "Requirement already satisfied: scipy in /usr/local/lib/python3.10/dist-packages (from gpflow==2.9.1) (1.13.1)\n",
            "Requirement already satisfied: setuptools>=41.0.0 in /usr/local/lib/python3.10/dist-packages (from gpflow==2.9.1) (71.0.4)\n",
            "Requirement already satisfied: tabulate in /usr/local/lib/python3.10/dist-packages (from gpflow==2.9.1) (0.9.0)\n",
            "Requirement already satisfied: tensorflow-probability>=0.12.0 in /usr/local/lib/python3.10/dist-packages (from gpflow==2.9.1) (0.24.0)\n",
            "Requirement already satisfied: typing-extensions in /usr/local/lib/python3.10/dist-packages (from gpflow==2.9.1) (4.12.2)\n",
            "Requirement already satisfied: tensorflow>=2.4.0 in /usr/local/lib/python3.10/dist-packages (from gpflow==2.9.1) (2.17.0)\n",
            "Collecting dropstackframe>=0.1.0 (from check-shapes>=1.0.0->gpflow==2.9.1)\n",
            "  Downloading dropstackframe-0.1.1-py3-none-any.whl.metadata (4.3 kB)\n",
            "Collecting lark<2.0.0,>=1.1.0 (from check-shapes>=1.0.0->gpflow==2.9.1)\n",
            "  Downloading lark-1.2.1-py3-none-any.whl.metadata (1.8 kB)\n",
            "Requirement already satisfied: absl-py>=1.0.0 in /usr/local/lib/python3.10/dist-packages (from tensorflow>=2.4.0->gpflow==2.9.1) (1.4.0)\n",
            "Requirement already satisfied: astunparse>=1.6.0 in /usr/local/lib/python3.10/dist-packages (from tensorflow>=2.4.0->gpflow==2.9.1) (1.6.3)\n",
            "Requirement already satisfied: flatbuffers>=24.3.25 in /usr/local/lib/python3.10/dist-packages (from tensorflow>=2.4.0->gpflow==2.9.1) (24.3.25)\n",
            "Requirement already satisfied: gast!=0.5.0,!=0.5.1,!=0.5.2,>=0.2.1 in /usr/local/lib/python3.10/dist-packages (from tensorflow>=2.4.0->gpflow==2.9.1) (0.6.0)\n",
            "Requirement already satisfied: google-pasta>=0.1.1 in /usr/local/lib/python3.10/dist-packages (from tensorflow>=2.4.0->gpflow==2.9.1) (0.2.0)\n",
            "Requirement already satisfied: h5py>=3.10.0 in /usr/local/lib/python3.10/dist-packages (from tensorflow>=2.4.0->gpflow==2.9.1) (3.11.0)\n",
            "Requirement already satisfied: libclang>=13.0.0 in /usr/local/lib/python3.10/dist-packages (from tensorflow>=2.4.0->gpflow==2.9.1) (18.1.1)\n",
            "Requirement already satisfied: ml-dtypes<0.5.0,>=0.3.1 in /usr/local/lib/python3.10/dist-packages (from tensorflow>=2.4.0->gpflow==2.9.1) (0.4.0)\n",
            "Requirement already satisfied: opt-einsum>=2.3.2 in /usr/local/lib/python3.10/dist-packages (from tensorflow>=2.4.0->gpflow==2.9.1) (3.3.0)\n",
            "Requirement already satisfied: protobuf!=4.21.0,!=4.21.1,!=4.21.2,!=4.21.3,!=4.21.4,!=4.21.5,<5.0.0dev,>=3.20.3 in /usr/local/lib/python3.10/dist-packages (from tensorflow>=2.4.0->gpflow==2.9.1) (3.20.3)\n",
            "Requirement already satisfied: requests<3,>=2.21.0 in /usr/local/lib/python3.10/dist-packages (from tensorflow>=2.4.0->gpflow==2.9.1) (2.32.3)\n",
            "Requirement already satisfied: six>=1.12.0 in /usr/local/lib/python3.10/dist-packages (from tensorflow>=2.4.0->gpflow==2.9.1) (1.16.0)\n",
            "Requirement already satisfied: termcolor>=1.1.0 in /usr/local/lib/python3.10/dist-packages (from tensorflow>=2.4.0->gpflow==2.9.1) (2.4.0)\n",
            "Requirement already satisfied: wrapt>=1.11.0 in /usr/local/lib/python3.10/dist-packages (from tensorflow>=2.4.0->gpflow==2.9.1) (1.16.0)\n",
            "Requirement already satisfied: grpcio<2.0,>=1.24.3 in /usr/local/lib/python3.10/dist-packages (from tensorflow>=2.4.0->gpflow==2.9.1) (1.64.1)\n",
            "Requirement already satisfied: tensorboard<2.18,>=2.17 in /usr/local/lib/python3.10/dist-packages (from tensorflow>=2.4.0->gpflow==2.9.1) (2.17.0)\n",
            "Requirement already satisfied: keras>=3.2.0 in /usr/local/lib/python3.10/dist-packages (from tensorflow>=2.4.0->gpflow==2.9.1) (3.4.1)\n",
            "Requirement already satisfied: tensorflow-io-gcs-filesystem>=0.23.1 in /usr/local/lib/python3.10/dist-packages (from tensorflow>=2.4.0->gpflow==2.9.1) (0.37.1)\n",
            "Requirement already satisfied: decorator in /usr/local/lib/python3.10/dist-packages (from tensorflow-probability>=0.12.0->gpflow==2.9.1) (4.4.2)\n",
            "Requirement already satisfied: cloudpickle>=1.3 in /usr/local/lib/python3.10/dist-packages (from tensorflow-probability>=0.12.0->gpflow==2.9.1) (2.2.1)\n",
            "Requirement already satisfied: dm-tree in /usr/local/lib/python3.10/dist-packages (from tensorflow-probability>=0.12.0->gpflow==2.9.1) (0.1.8)\n",
            "Requirement already satisfied: wheel<1.0,>=0.23.0 in /usr/local/lib/python3.10/dist-packages (from astunparse>=1.6.0->tensorflow>=2.4.0->gpflow==2.9.1) (0.44.0)\n",
            "Requirement already satisfied: rich in /usr/local/lib/python3.10/dist-packages (from keras>=3.2.0->tensorflow>=2.4.0->gpflow==2.9.1) (13.7.1)\n",
            "Requirement already satisfied: namex in /usr/local/lib/python3.10/dist-packages (from keras>=3.2.0->tensorflow>=2.4.0->gpflow==2.9.1) (0.0.8)\n",
            "Requirement already satisfied: optree in /usr/local/lib/python3.10/dist-packages (from keras>=3.2.0->tensorflow>=2.4.0->gpflow==2.9.1) (0.12.1)\n",
            "Requirement already satisfied: charset-normalizer<4,>=2 in /usr/local/lib/python3.10/dist-packages (from requests<3,>=2.21.0->tensorflow>=2.4.0->gpflow==2.9.1) (3.3.2)\n",
            "Requirement already satisfied: idna<4,>=2.5 in /usr/local/lib/python3.10/dist-packages (from requests<3,>=2.21.0->tensorflow>=2.4.0->gpflow==2.9.1) (3.7)\n",
            "Requirement already satisfied: urllib3<3,>=1.21.1 in /usr/local/lib/python3.10/dist-packages (from requests<3,>=2.21.0->tensorflow>=2.4.0->gpflow==2.9.1) (2.0.7)\n",
            "Requirement already satisfied: certifi>=2017.4.17 in /usr/local/lib/python3.10/dist-packages (from requests<3,>=2.21.0->tensorflow>=2.4.0->gpflow==2.9.1) (2024.7.4)\n",
            "Requirement already satisfied: markdown>=2.6.8 in /usr/local/lib/python3.10/dist-packages (from tensorboard<2.18,>=2.17->tensorflow>=2.4.0->gpflow==2.9.1) (3.6)\n",
            "Requirement already satisfied: tensorboard-data-server<0.8.0,>=0.7.0 in /usr/local/lib/python3.10/dist-packages (from tensorboard<2.18,>=2.17->tensorflow>=2.4.0->gpflow==2.9.1) (0.7.2)\n",
            "Requirement already satisfied: werkzeug>=1.0.1 in /usr/local/lib/python3.10/dist-packages (from tensorboard<2.18,>=2.17->tensorflow>=2.4.0->gpflow==2.9.1) (3.0.3)\n",
            "Requirement already satisfied: MarkupSafe>=2.1.1 in /usr/local/lib/python3.10/dist-packages (from werkzeug>=1.0.1->tensorboard<2.18,>=2.17->tensorflow>=2.4.0->gpflow==2.9.1) (2.1.5)\n",
            "Requirement already satisfied: markdown-it-py>=2.2.0 in /usr/local/lib/python3.10/dist-packages (from rich->keras>=3.2.0->tensorflow>=2.4.0->gpflow==2.9.1) (3.0.0)\n",
            "Requirement already satisfied: pygments<3.0.0,>=2.13.0 in /usr/local/lib/python3.10/dist-packages (from rich->keras>=3.2.0->tensorflow>=2.4.0->gpflow==2.9.1) (2.16.1)\n",
            "Requirement already satisfied: mdurl~=0.1 in /usr/local/lib/python3.10/dist-packages (from markdown-it-py>=2.2.0->rich->keras>=3.2.0->tensorflow>=2.4.0->gpflow==2.9.1) (0.1.2)\n",
            "Downloading gpflow-2.9.1-py3-none-any.whl (380 kB)\n",
            "\u001b[2K   \u001b[90m━━━━━━━━━━━━━━━━━━━━━━━━━━━━━━━━━━━━━━━━\u001b[0m \u001b[32m380.6/380.6 kB\u001b[0m \u001b[31m7.1 MB/s\u001b[0m eta \u001b[36m0:00:00\u001b[0m\n",
            "\u001b[?25hDownloading check_shapes-1.1.1-py3-none-any.whl (45 kB)\n",
            "\u001b[2K   \u001b[90m━━━━━━━━━━━━━━━━━━━━━━━━━━━━━━━━━━━━━━━━\u001b[0m \u001b[32m45.8/45.8 kB\u001b[0m \u001b[31m2.8 MB/s\u001b[0m eta \u001b[36m0:00:00\u001b[0m\n",
            "\u001b[?25hDownloading Deprecated-1.2.14-py2.py3-none-any.whl (9.6 kB)\n",
            "Downloading dropstackframe-0.1.1-py3-none-any.whl (4.6 kB)\n",
            "Downloading lark-1.2.1-py3-none-any.whl (111 kB)\n",
            "\u001b[2K   \u001b[90m━━━━━━━━━━━━━━━━━━━━━━━━━━━━━━━━━━━━━━━━\u001b[0m \u001b[32m111.0/111.0 kB\u001b[0m \u001b[31m5.2 MB/s\u001b[0m eta \u001b[36m0:00:00\u001b[0m\n",
            "\u001b[?25hInstalling collected packages: lark, dropstackframe, deprecated, check-shapes, gpflow\n",
            "Successfully installed check-shapes-1.1.1 deprecated-1.2.14 dropstackframe-0.1.1 gpflow-2.9.1 lark-1.2.1\n"
          ]
        }
      ],
      "source": [
        "!pip install tensorflow\n",
        "!pip install gpflow==2.9.1\n",
        "# !pip install gpflow==2.6.3\n",
        "# !pip install gpflow==2.4.0"
      ]
    },
    {
      "cell_type": "code",
      "source": [
        "import gpflow\n",
        "print(gpflow.__version__)"
      ],
      "metadata": {
        "colab": {
          "base_uri": "https://localhost:8080/"
        },
        "id": "OqR41IAL6F4a",
        "outputId": "f76d4c05-22e2-44b9-d4f2-83ebcd5e8a8a"
      },
      "execution_count": null,
      "outputs": [
        {
          "output_type": "stream",
          "name": "stdout",
          "text": [
            "2.9.1\n"
          ]
        }
      ]
    },
    {
      "cell_type": "markdown",
      "source": [
        "SETTING SMALL VARIANCE"
      ],
      "metadata": {
        "id": "yBt1Jy5vB9yk"
      }
    },
    {
      "cell_type": "code",
      "source": [
        "import gpflow.utilities"
      ],
      "metadata": {
        "id": "Ok8_DzMcIztu"
      },
      "execution_count": null,
      "outputs": []
    },
    {
      "cell_type": "code",
      "source": [
        "gpflow.utilities.print_summary(model)\n",
        "gpflow.utilities.print_summary(model.trainable_variables)"
      ],
      "metadata": {
        "colab": {
          "base_uri": "https://localhost:8080/"
        },
        "id": "MiA8K8J9IhqA",
        "outputId": "2efa9307-69f0-4ff2-c6ca-d9b514f6b5cc",
        "collapsed": true
      },
      "execution_count": null,
      "outputs": [
        {
          "output_type": "stream",
          "name": "stdout",
          "text": [
            "╒═════════════════════════╤═══════════╤══════════════════╤═════════╤═════════════╤═════════╤═════════╤═══════════════════╕\n",
            "│ name                    │ class     │ transform        │ prior   │ trainable   │ shape   │ dtype   │ value             │\n",
            "╞═════════════════════════╪═══════════╪══════════════════╪═════════╪═════════════╪═════════╪═════════╪═══════════════════╡\n",
            "│ GPR.kernel.variance     │ Parameter │ Softplus         │         │ True        │ ()      │ float64 │ 146.23673         │\n",
            "├─────────────────────────┼───────────┼──────────────────┼─────────┼─────────────┼─────────┼─────────┼───────────────────┤\n",
            "│ GPR.kernel.lengthscales │ Parameter │ Softplus         │         │ True        │ (2,)    │ float64 │ [1.83272 1.83272] │\n",
            "├─────────────────────────┼───────────┼──────────────────┼─────────┼─────────────┼─────────┼─────────┼───────────────────┤\n",
            "│ GPR.likelihood.variance │ Parameter │ Softplus + Shift │         │ True        │ ()      │ float64 │ 146.60784         │\n",
            "╘═════════════════════════╧═══════════╧══════════════════╧═════════╧═════════════╧═════════╧═════════╧═══════════════════╛\n",
            "╒══════════╤══════════════════╤═════════════╤═════════╤═════════════╤═════════╤═════════╤═══════════════════╕\n",
            "│ name     │ class            │ transform   │ prior   │ trainable   │ shape   │ dtype   │ value             │\n",
            "╞══════════╪══════════════════╪═════════════╪═════════╪═════════════╪═════════╪═════════╪═══════════════════╡\n",
            "│ tuple[0] │ ResourceVariable │             │         │ True        │ (2,)    │ float64 │ [1.65839 1.65839] │\n",
            "├──────────┼──────────────────┼─────────────┼─────────┼─────────────┼─────────┼─────────┼───────────────────┤\n",
            "│ tuple[1] │ ResourceVariable │             │         │ True        │ ()      │ float64 │ 146.23673         │\n",
            "├──────────┼──────────────────┼─────────────┼─────────┼─────────────┼─────────┼─────────┼───────────────────┤\n",
            "│ tuple[2] │ ResourceVariable │             │         │ True        │ ()      │ float64 │ 146.60784         │\n",
            "╘══════════╧══════════════════╧═════════════╧═════════╧═════════════╧═════════╧═════════╧═══════════════════╛\n"
          ]
        }
      ]
    },
    {
      "cell_type": "code",
      "source": [
        "from scipy.stats import norm\n",
        "import numpy as np\n",
        "import matplotlib.pyplot as plt\n",
        "from matplotlib.ticker import FuncFormatter, MaxNLocator\n",
        "import gpflow\n",
        "import pandas as pd"
      ],
      "metadata": {
        "id": "JunJj0yHaPAd"
      },
      "execution_count": 5,
      "outputs": []
    },
    {
      "cell_type": "markdown",
      "source": [
        "Function to generate Noise:"
      ],
      "metadata": {
        "id": "BosbnfP3QZd-"
      }
    },
    {
      "cell_type": "code",
      "source": [
        "def generate_noisy_data(x, n_points=5, noise_std_range=(0.0, 1.0)):\n",
        "    X_noisy = []\n",
        "    y_noisy = []\n",
        "    noise_levels = []\n",
        "\n",
        "    for point in x:\n",
        "        noise_level = np.random.uniform(noise_std_range[0], noise_std_range[1])\n",
        "        for _ in range(n_points):\n",
        "            noisy_y = calculate_y(np.array([[point]])) + np.random.normal(0, noise_level)\n",
        "            X_noisy.append(point)\n",
        "            y_noisy.append(noisy_y)\n",
        "            noise_levels.append(noise_level)\n",
        "\n",
        "    X_noisy = np.array(X_noisy).reshape(-1, 1)\n",
        "    y_noisy = np.array(y_noisy).reshape(-1, 1)\n",
        "    noise_levels = np.array(noise_levels)\n",
        "\n",
        "    return X_noisy, y_noisy, noise_levels\n",
        "\n",
        "gp_var = 1"
      ],
      "metadata": {
        "id": "7wTQurxKadM0"
      },
      "execution_count": null,
      "outputs": []
    },
    {
      "cell_type": "markdown",
      "source": [
        "**Automated 1D GP --> CSV Files and Plotting.**"
      ],
      "metadata": {
        "id": "XXT5JJ3i5R1C"
      }
    },
    {
      "cell_type": "code",
      "source": [
        "from google.colab import drive\n",
        "import os\n",
        "\n",
        "# Mount Google Drive\n",
        "drive.mount('/content/drive')\n",
        "\n",
        "# Define the directory in Google Drive where you want to save the results\n",
        "save_dir = '/content/drive/MyDrive/Vanilla_GP_Results_1D'\n",
        "os.makedirs(save_dir, exist_ok=True)\n"
      ],
      "metadata": {
        "colab": {
          "base_uri": "https://localhost:8080/"
        },
        "id": "2rQOYiH9BMve",
        "outputId": "6781d441-1372-4cc2-f509-1ec59b009e09"
      },
      "execution_count": 3,
      "outputs": [
        {
          "output_type": "stream",
          "name": "stdout",
          "text": [
            "Mounted at /content/drive\n"
          ]
        }
      ]
    },
    {
      "cell_type": "code",
      "source": [
        "# Function to generate a grid of points for prediction\n",
        "def generate_grid(x_limits, num_points=100):\n",
        "    grid = np.linspace(x_limits[0], x_limits[1], num_points)\n",
        "    return grid.reshape(-1, 1)\n",
        "\n",
        "# Function to calculate y based on the Forrester function with added homogeneous noise\n",
        "def calculate_y(x, noise_std=1.0):\n",
        "    term1 = (6 * x - 2) ** 2 * np.sin(12 * x - 4)\n",
        "    noise = np.random.normal(0, noise_std, size=x.shape)\n",
        "    return term1 + noise\n",
        "\n",
        "# DEFINE GP MODELS + TRAINING\n",
        "def train_gp_model(X, y):\n",
        "    kernel = gpflow.kernels.SquaredExponential(lengthscales=0.1) # e.g., 0.3 | 0.1\n",
        "    model = gpflow.models.GPR(data=(X, y), kernel=kernel, mean_function=None)\n",
        "    model.likelihood.variance.assign(1.0 ** 2)  # Set variance to match the noise level\n",
        "    gpflow.utilities.set_trainable(model.likelihood.variance, False)\n",
        "    opt = gpflow.optimizers.Scipy()\n",
        "    opt.minimize(model.training_loss, model.trainable_variables)\n",
        "    return model\n",
        "\n",
        "# Expected Improvement function for minimization\n",
        "def expected_improvement(y_best, f_mean, f_var):\n",
        "    variance = np.maximum(f_var, 1e-9)\n",
        "    std_dev = np.sqrt(variance)\n",
        "    delta = y_best - f_mean\n",
        "    with np.errstate(divide='ignore'):\n",
        "        Z = delta / std_dev\n",
        "        ei = delta * norm.cdf(Z) + std_dev * norm.pdf(Z)\n",
        "        ei[std_dev == 0.0] = 0.0\n",
        "    return ei\n",
        "\n",
        "# MAIN SCRIPT\n",
        "x_limits = [0.0, 1.0]  # Limits for x\n",
        "\n",
        "# Define the levels for x\n",
        "x_manual = np.array([0.0, 0.5, 1.0])\n",
        "\n",
        "# Generate the initial noisy data\n",
        "X = x_manual.reshape(-1, 1)\n",
        "y = calculate_y(X, noise_std=1.0)  # Add homogeneous noise with standard deviation of 0.1\n",
        "\n",
        "# Train GP model\n",
        "model = train_gp_model(X, y)\n",
        "\n",
        "# Create a DataFrame to store results\n",
        "results_df = pd.DataFrame(columns=['iteration', 'x1', 'y', 'ei', 'LCB', 'y_best', 'true_var', 'pred_var'])\n",
        "\n",
        "# Run iterations\n",
        "num_iterations = 20\n",
        "for iteration in range(num_iterations):\n",
        "    # Generate grid for prediction\n",
        "    X_plot = generate_grid(x_limits, 500)\n",
        "\n",
        "    # Predict f_mean and f_var for the model\n",
        "    f_mean, f_var = model.predict_f(X_plot)\n",
        "    f_mean = f_mean.numpy()\n",
        "    f_var = f_var.numpy()\n",
        "\n",
        "    # Calculate EI and LCB\n",
        "    y_best = np.min(y)\n",
        "    ei = expected_improvement(y_best, f_mean, f_var)\n",
        "    LCB = f_mean - 1.96 * np.sqrt(f_var)\n",
        "    UCB = f_mean + 1.96 * np.sqrt(f_var)\n",
        "\n",
        "    # Calculate true variance\n",
        "    y_true = calculate_y(X_plot)\n",
        "    true_var = np.var(y_true - f_mean)\n",
        "\n",
        "    # Find the point that maximizes EI\n",
        "    max_ei_index = np.argmax(ei)\n",
        "    x1_new_ei = X_plot[max_ei_index][0]\n",
        "    y_new_ei = calculate_y(np.array([[x1_new_ei]]))[0]\n",
        "\n",
        "    # Find the point with the lowest LCB\n",
        "    min_lcb_index = np.argmin(LCB)\n",
        "    x1_new_lcb = X_plot[min_lcb_index][0]\n",
        "    y_new_lcb = calculate_y(np.array([[x1_new_lcb]]))[0]\n",
        "    lcb_value = LCB[min_lcb_index][0]\n",
        "    pred_var = f_var[min_lcb_index][0]\n",
        "\n",
        "    # Update the training data with the new points\n",
        "    X = np.vstack((X, [[x1_new_ei]]))\n",
        "    y = np.vstack((y, y_new_ei))\n",
        "    X = np.vstack((X, [[x1_new_lcb]]))\n",
        "    y = np.vstack((y, y_new_lcb))\n",
        "\n",
        "    # Re-train the GP model\n",
        "    model = train_gp_model(X, y)\n",
        "\n",
        "    # Create a DataFrame for the new rows and concatenate it to results_df\n",
        "    new_rows = pd.DataFrame([\n",
        "        {\n",
        "            'iteration': iteration,\n",
        "            'x1': x1_new_ei,\n",
        "            'y': y_new_ei,\n",
        "            'ei': ei[max_ei_index],\n",
        "            'LCB': None,  # EI point does not have an LCB value\n",
        "            'y_best': round(y_best, 2),\n",
        "            'true_var': true_var,\n",
        "            'pred_var': None,  # EI point does not have a predicted variance value\n",
        "        },\n",
        "        {\n",
        "            'iteration': iteration,\n",
        "            'x1': x1_new_lcb,\n",
        "            'y': y_new_lcb,\n",
        "            'ei': ei[min_lcb_index],\n",
        "            'LCB': lcb_value,  # Save the LCB value\n",
        "            'y_best': round(y_best, 2),\n",
        "            'true_var': true_var,\n",
        "            'pred_var': pred_var,  # Save the predicted variance value\n",
        "        }\n",
        "    ])\n",
        "    results_df = pd.concat([results_df, new_rows], ignore_index=True)\n",
        "\n",
        "    # Print the new points\n",
        "    print(f\"New EI point added: x1 = {x1_new_ei}, y = {y_new_ei}, ei = {ei[max_ei_index]}, y_best = {round(y_best, 2)}\")\n",
        "    print(f\"New LCB point added: x1 = {x1_new_lcb}, y = {y_new_lcb}, ei = {ei[min_lcb_index]}, LCB = {lcb_value}, y_best = {round(y_best, 2)}\")\n",
        "\n",
        "    # Save the plot after each iteration\n",
        "    fontsize = 10\n",
        "    linewidth = 1.5\n",
        "\n",
        "    # Plot preparation\n",
        "    fig, (ax1, ax2) = plt.subplots(1, 2, figsize=(9, 3), dpi=800)\n",
        "    fig.tight_layout(pad=3.0)\n",
        "\n",
        "    # Plot f_mean, LCB, UCB, and scatter observed points\n",
        "    ax1.fill_between(X_plot.flatten(), LCB.flatten(), UCB.flatten(), color='silver', alpha=0.3)\n",
        "    ax1.plot(X_plot, f_mean, color=\"green\", linestyle='-', linewidth=linewidth, label='Mean')\n",
        "    ax1.plot(X_plot, LCB, color=\"red\", linestyle='-', linewidth=linewidth, label='LCB')\n",
        "    ax1.plot(X_plot, UCB, color=\"blue\", linestyle='-', linewidth=linewidth, label='UCB')\n",
        "    ax1.set_xticks(X.flatten())\n",
        "    ax1.tick_params(axis='x', labelsize=fontsize)\n",
        "    ax1.tick_params(axis='y', labelsize=fontsize)\n",
        "    ax1.set_xlabel(\"x\", fontsize=fontsize)\n",
        "    ax1.set_ylabel(\"f\", fontsize=fontsize)\n",
        "    ax1.grid(True, which='major', color='gray', linestyle='--')\n",
        "    ax1.scatter(X, y, color=\"black\", s=10, label='Observed Points')\n",
        "    ax1.xaxis.set_major_formatter(FuncFormatter(lambda x, _: f\"{x:.2f}\"))\n",
        "    ax1.plot(X_plot, y_true, color=\"black\", linewidth=linewidth, label='True Function')\n",
        "\n",
        "    # Plot EI\n",
        "    ax2.plot(X_plot, ei, color=\"red\", linewidth=linewidth, label='EI')\n",
        "    ax2.set_xlabel(\"x\", fontsize=fontsize)\n",
        "    ax2.set_ylabel(\"EI\", fontsize=fontsize)\n",
        "    ax2.set_xticks(X.flatten())\n",
        "    ax2.tick_params(axis='x', labelsize=fontsize)\n",
        "    ax2.tick_params(axis='y', labelsize=fontsize)\n",
        "    ax2.set_xlabel(\"x\", fontsize=fontsize)\n",
        "    ax2.set_ylabel(\"EI\", fontsize=fontsize)\n",
        "    ax2.grid(True, which='major', color='gray', linestyle='--')\n",
        "    ax2.xaxis.set_major_formatter(FuncFormatter(lambda x, _: f\"{x:.2f}\"))\n",
        "\n",
        "     # Save the plot to a file in Google Drive\n",
        "    plt.savefig(os.path.join(save_dir, f'HomoNoise_Vanilla_GP_Forrester_iteration_{iteration + 1}_1Dplots.png'))\n",
        "    plt.close()\n",
        "\n",
        "    print(f\"Figure saved for iteration {iteration + 1}\")\n",
        "\n",
        "# After all iterations have completed, save the final results to a CSV file in Google Drive\n",
        "results_df.to_csv(os.path.join(save_dir, 'HomoNoise_Final_Vanilla_Forrester_1D_GP_Results.csv'), index=False)\n",
        "print(\"Final results saved to Final_GP_Results.csv\")"
      ],
      "metadata": {
        "colab": {
          "base_uri": "https://localhost:8080/"
        },
        "id": "TeO-GVZd2q_T",
        "outputId": "6cf5593d-bd7e-4d9f-f80d-60bb6cb42f92"
      },
      "execution_count": 7,
      "outputs": [
        {
          "output_type": "stream",
          "name": "stderr",
          "text": [
            "<ipython-input-7-656f7652d7be>:114: FutureWarning: The behavior of DataFrame concatenation with empty or all-NA entries is deprecated. In a future version, this will no longer exclude empty or all-NA columns when determining the result dtypes. To retain the old behavior, exclude the relevant entries before the concat operation.\n",
            "  results_df = pd.concat([results_df, new_rows], ignore_index=True)\n"
          ]
        },
        {
          "output_type": "stream",
          "name": "stdout",
          "text": [
            "New EI point added: x1 = 0.2945891783567134, y = [-0.10059155], ei = [2.26470849], y_best = 1.3\n",
            "New LCB point added: x1 = 0.2685370741482966, y = [-0.79269176], ei = [2.23253018], LCB = -9.446806923971435, y_best = 1.3\n",
            "Figure saved for iteration 1\n",
            "New EI point added: x1 = 0.30260521042084165, y = [-0.39007113], ei = [0.11585174], y_best = -0.79\n",
            "New LCB point added: x1 = 0.2945891783567134, y = [1.61805619], ei = [0.11523735], LCB = -1.6937778980268101, y_best = -0.79\n",
            "Figure saved for iteration 2\n",
            "New EI point added: x1 = 0.3106212424849699, y = [0.69829211], ei = [0.00734714], y_best = -0.79\n",
            "New LCB point added: x1 = 0.312625250501002, y = [1.2144825], ei = [0.00734511], LCB = -0.8850209927144294, y_best = -0.79\n",
            "Figure saved for iteration 3\n",
            "New EI point added: x1 = 0.4308617234468938, y = [-0.01576798], ei = [0.00050625], y_best = -0.79\n",
            "New LCB point added: x1 = 0.3066132264529058, y = [0.74426533], ei = [0.0002541], LCB = -0.4458529746854066, y_best = -0.79\n",
            "Figure saved for iteration 4\n",
            "New EI point added: x1 = 0.4488977955911823, y = [1.07973078], ei = [0.00049586], y_best = -0.79\n",
            "New LCB point added: x1 = 0.3807615230460922, y = [-0.81239166], ei = [0.0002361], LCB = -0.43009420482216293, y_best = -0.79\n",
            "Figure saved for iteration 5\n",
            "New EI point added: x1 = 0.2725450901803607, y = [-0.05090902], ei = [0.00013662], y_best = -0.81\n",
            "New LCB point added: x1 = 0.32665330661322645, y = [-0.1681319], ei = [9.32659304e-05], LCB = -0.4477933315915885, y_best = -0.81\n",
            "Figure saved for iteration 6\n",
            "New EI point added: x1 = 0.4368737474949899, y = [0.51081149], ei = [9.98397834e-05], y_best = -0.81\n",
            "New LCB point added: x1 = 0.32665330661322645, y = [-0.43617969], ei = [5.76934419e-05], LCB = -0.4527481437753001, y_best = -0.81\n",
            "Figure saved for iteration 7\n",
            "New EI point added: x1 = 0.26452905811623245, y = [-0.37578557], ei = [9.94588453e-05], y_best = -0.81\n",
            "New LCB point added: x1 = 0.31462925851703405, y = [-0.5335054], ei = [6.22410267e-05], LCB = -0.46964973079267613, y_best = -0.81\n",
            "Figure saved for iteration 8\n",
            "New EI point added: x1 = 0.2625250501002004, y = [-1.56725703], ei = [0.00012293], y_best = -0.81\n",
            "New LCB point added: x1 = 0.3046092184368737, y = [0.35503878], ei = [8.55661317e-05], LCB = -0.5164349404114602, y_best = -0.81\n",
            "Figure saved for iteration 9\n",
            "New EI point added: x1 = 0.0, y = [3.49467354], ei = [2.95624002e-07], y_best = -1.57\n",
            "New LCB point added: x1 = 0.2865731462925851, y = [0.44358585], ei = [3.09980123e-10], LCB = -0.5794470718410006, y_best = -1.57\n",
            "Figure saved for iteration 10\n",
            "New EI point added: x1 = 0.49098196392785565, y = [1.29502277], ei = [4.90240323e-09], y_best = -1.57\n",
            "New LCB point added: x1 = 0.30260521042084165, y = [2.31167642], ei = [7.07953965e-12], LCB = -0.5230943356454418, y_best = -1.57\n",
            "Figure saved for iteration 11\n",
            "New EI point added: x1 = 0.156312625250501, y = [-1.11416522], ei = [3.17628473], y_best = -1.57\n",
            "New LCB point added: x1 = 0.7054108216432865, y = [-4.63205373], ei = [2.17664935], LCB = -14.027296642228633, y_best = -1.57\n",
            "Figure saved for iteration 12\n",
            "New EI point added: x1 = 0.7555110220440882, y = [-6.51890701], ei = [0.54916757], y_best = -4.63\n",
            "New LCB point added: x1 = 0.7815631262525049, y = [-5.98611613], ei = [0.47541853], LCB = -8.870419130359757, y_best = -4.63\n",
            "Figure saved for iteration 13\n",
            "New EI point added: x1 = 0.7595190380761523, y = [-4.29333119], ei = [0.1382651], y_best = -6.52\n",
            "New LCB point added: x1 = 0.7675350701402806, y = [-5.35607328], ei = [0.13207839], LCB = -7.502056052398534, y_best = -6.52\n",
            "Figure saved for iteration 14\n",
            "New EI point added: x1 = 0.7334669338677354, y = [-6.97662906], ei = [0.0085695], y_best = -6.52\n",
            "New LCB point added: x1 = 0.7374749498997996, y = [-5.38811862], ei = [0.0084506], LCB = -6.620859353123328, y_best = -6.52\n",
            "Figure saved for iteration 15\n",
            "New EI point added: x1 = 0.7154308617234468, y = [-6.2164885], ei = [0.00080165], y_best = -6.98\n",
            "New LCB point added: x1 = 0.7354709418837675, y = [-5.50058676], ei = [0.00049324], LCB = -6.651716187140268, y_best = -6.98\n",
            "Figure saved for iteration 16\n",
            "New EI point added: x1 = 0.7074148296593186, y = [-6.80767974], ei = [0.00026757], y_best = -6.98\n",
            "New LCB point added: x1 = 0.7414829659318637, y = [-6.49484187], ei = [0.00011535], LCB = -6.595961897991345, y_best = -6.98\n",
            "Figure saved for iteration 17\n",
            "New EI point added: x1 = 0.7094188376753506, y = [-4.99573851], ei = [0.00072337], y_best = -6.98\n",
            "New LCB point added: x1 = 0.7274549098196392, y = [-4.19390646], ei = [0.00048464], LCB = -6.746206638395587, y_best = -6.98\n",
            "Figure saved for iteration 18\n",
            "New EI point added: x1 = 0.7795591182364728, y = [-8.27788743], ei = [0.00011887], y_best = -6.98\n",
            "New LCB point added: x1 = 0.751503006012024, y = [-5.14427143], ei = [3.13362319e-05], LCB = -6.502121398552373, y_best = -6.98\n",
            "Figure saved for iteration 19\n",
            "New EI point added: x1 = 0.8376753507014028, y = [-2.4295853], ei = [0.04962908], y_best = -8.28\n",
            "New LCB point added: x1 = 0.8356713426853707, y = [-2.64241693], ei = [0.04931225], LCB = -9.029326949803725, y_best = -8.28\n",
            "Figure saved for iteration 20\n",
            "Final results saved to Final_GP_Results.csv\n"
          ]
        }
      ]
    }
  ]
}